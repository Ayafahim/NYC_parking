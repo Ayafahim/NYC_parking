{
 "cells": [
  {
   "cell_type": "code",
   "execution_count": 4,
   "metadata": {},
   "outputs": [
    {
     "name": "stdout",
     "output_type": "stream",
     "text": [
      "✅ Retrieved 50000 records (Total so far: 50000)\n",
      "✅ Retrieved 50000 records (Total so far: 100000)\n",
      "✅ Retrieved 50000 records (Total so far: 150000)\n",
      "✅ Retrieved 50000 records (Total so far: 200000)\n",
      "📦 Done! Saved 200.000 rows to nyc_parking_violations_sample.csv\n"
     ]
    }
   ],
   "source": [
    "import requests\n",
    "import pandas as pd\n",
    "\n",
    "# NYC Open Data API endpoint\n",
    "base_url = \"https://data.cityofnewyork.us/resource/pvqr-7yc4.json\"\n",
    "\n",
    "# Settings\n",
    "limit = 50000         # Rows per request\n",
    "offset = 0            # Starting index\n",
    "max_records = 200000 # Total you want\n",
    "\n",
    "# Container for all records\n",
    "data = []\n",
    "\n",
    "while offset < max_records:\n",
    "    params = {\n",
    "        \"$limit\": limit,\n",
    "        \"$offset\": offset\n",
    "    }\n",
    "\n",
    "    response = requests.get(base_url, params=params)\n",
    "\n",
    "    if response.status_code != 200:\n",
    "        print(f\"Request failed at offset {offset} with status code {response.status_code}\")\n",
    "        break\n",
    "\n",
    "    batch = response.json()\n",
    "\n",
    "    if not batch:\n",
    "        print(\"No more data returned.\")\n",
    "        break\n",
    "\n",
    "    data.extend(batch)\n",
    "    offset += limit\n",
    "\n",
    "    print(f\"✅ Retrieved {len(batch)} records (Total so far: {len(data)})\")\n",
    "\n",
    "# Convert to DataFrame\n",
    "df = pd.DataFrame(data)\n",
    "\n",
    "df = df.dropna(subset=['house_number', 'street_name', 'violation_county'])\n",
    "df.to_csv(\"nyc_parking_violations_sample.csv\", index=False)\n",
    "\n",
    "print(\"📦 Done! Saved 200.000 rows to nyc_parking_violations_sample.csv\")\n"
   ]
  },
  {
   "cell_type": "code",
   "execution_count": 10,
   "metadata": {},
   "outputs": [
    {
     "name": "stdout",
     "output_type": "stream",
     "text": [
      "📦 Downloaded: 50,000 rows\n",
      "🧹 New unique rows added: 50,000\n",
      "📊 Total dataset size now: 318,384\n"
     ]
    }
   ],
   "source": [
    "import requests\n",
    "import pandas as pd\n",
    "\n",
    "# NYC Open Data API endpoint\n",
    "base_url = \"https://data.cityofnewyork.us/resource/pvqr-7yc4.json\"\n",
    "\n",
    "# Load existing dataset\n",
    "csv_path = \"data/nyc_parking_violations_sample.csv\"\n",
    "existing_df = pd.read_csv(csv_path, low_memory=False)\n",
    "\n",
    "existing_ids = set(existing_df['summons_number'])\n",
    "\n",
    "# Download up to 50,000 new rows\n",
    "limit = 50000\n",
    "offset = len(existing_df)\n",
    "\n",
    "params = {\n",
    "    \"$limit\": limit,\n",
    "    \"$offset\": offset\n",
    "}\n",
    "\n",
    "response = requests.get(base_url, params=params)\n",
    "if response.status_code == 200:\n",
    "    new_data = response.json()\n",
    "    if new_data:\n",
    "        new_df = pd.DataFrame(new_data)\n",
    "        \n",
    "        # Filter out known summons numbers before merge\n",
    "        new_df = new_df[~new_df['summons_number'].isin(existing_ids)]\n",
    "\n",
    "        combined_df = pd.concat([existing_df, new_df], ignore_index=True)\n",
    "        combined_df.to_csv(csv_path, index=False)\n",
    "\n",
    "        print(f\"📦 Downloaded: {len(new_data):,} rows\")\n",
    "        print(f\"🧹 New unique rows added: {len(new_df):,}\")\n",
    "        print(f\"📊 Total dataset size now: {len(combined_df):,}\")\n",
    "    else:\n",
    "        print(\"🚫 No new data returned from API.\")\n",
    "else:\n",
    "    print(f\"❌ Request failed with status code {response.status_code}\")\n"
   ]
  }
 ],
 "metadata": {
  "kernelspec": {
   "display_name": "venv",
   "language": "python",
   "name": "python3"
  },
  "language_info": {
   "codemirror_mode": {
    "name": "ipython",
    "version": 3
   },
   "file_extension": ".py",
   "mimetype": "text/x-python",
   "name": "python",
   "nbconvert_exporter": "python",
   "pygments_lexer": "ipython3",
   "version": "3.9.6"
  }
 },
 "nbformat": 4,
 "nbformat_minor": 2
}

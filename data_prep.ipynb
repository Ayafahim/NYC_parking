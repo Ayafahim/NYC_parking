{
 "cells": [
  {
   "cell_type": "code",
   "execution_count": 1,
   "metadata": {},
   "outputs": [
    {
     "name": "stderr",
     "output_type": "stream",
     "text": [
      "/var/folders/0q/x2dyyz5d7xs7zzrfhj8l86840000gp/T/ipykernel_77997/1958800546.py:4: DtypeWarning: Columns (17,18,26,27,28,32,34,35,36,39) have mixed types. Specify dtype option on import or set low_memory=False.\n",
      "  df = pd.read_csv(\"data/nyc_parking_violations_sample.csv\")\n"
     ]
    },
    {
     "name": "stdout",
     "output_type": "stream",
     "text": [
      "Index(['summons_number', 'plate_id', 'registration_state', 'plate_type',\n",
      "       'issue_date', 'violation_code', 'vehicle_body_type', 'vehicle_make',\n",
      "       'issuing_agency', 'street_code1', 'street_code2', 'street_code3',\n",
      "       'vehicle_expiration_date', 'violation_location', 'violation_precinct',\n",
      "       'issuer_precinct', 'issuer_code', 'issuer_command', 'issuer_squad',\n",
      "       'violation_time', 'violation_county', 'street_name',\n",
      "       'intersecting_street', 'date_first_observed', 'law_section',\n",
      "       'sub_division', 'days_parking_in_effect', 'from_hours_in_effect',\n",
      "       'to_hours_in_effect', 'vehicle_color', 'unregistered_vehicle',\n",
      "       'vehicle_year', 'meter_number', 'feet_from_curb',\n",
      "       'violation_in_front_of_or_opposite', 'house_number',\n",
      "       'time_first_observed', 'violation_description', 'violation_legal_code',\n",
      "       'violation_post_code'],\n",
      "      dtype='object')\n"
     ]
    }
   ],
   "source": [
    "import pandas as pd\n",
    "\n",
    "# Load your downloaded fines\n",
    "df = pd.read_csv(\"data/nyc_parking_violations_sample.csv\")\n",
    "\n",
    "# Preview\n",
    "print(df.columns)\n",
    "df['issue_date'] = pd.to_datetime(df['issue_date'], errors='coerce')\n",
    "df = df[df['issue_date'].notna()]\n",
    "df = df[df['violation_location'].notna()]  # Optional: ensure location info\n",
    "\n",
    "# Optional: focus on a borough or time window\n",
    "# df = df[df['borough'] == 'MANHATTAN']\n"
   ]
  }
 ],
 "metadata": {
  "kernelspec": {
   "display_name": "venv",
   "language": "python",
   "name": "python3"
  },
  "language_info": {
   "codemirror_mode": {
    "name": "ipython",
    "version": 3
   },
   "file_extension": ".py",
   "mimetype": "text/x-python",
   "name": "python",
   "nbconvert_exporter": "python",
   "pygments_lexer": "ipython3",
   "version": "3.9.6"
  }
 },
 "nbformat": 4,
 "nbformat_minor": 2
}
